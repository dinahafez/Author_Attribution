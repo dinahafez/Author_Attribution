{
 "cells": [
  {
   "cell_type": "code",
   "execution_count": 3,
   "metadata": {
    "collapsed": true
   },
   "outputs": [],
   "source": [
    "%matplotlib inline"
   ]
  },
  {
   "cell_type": "code",
   "execution_count": 113,
   "metadata": {
    "collapsed": true
   },
   "outputs": [],
   "source": [
    "import matplotlib.pyplot as plt\n",
    "import numpy as np\n",
    "import re\n",
    "import warnings\n",
    "import nltk\n",
    "from nltk import FreqDist\n",
    "from nltk.corpus import stopwords\n",
    "from nltk.tokenize import sent_tokenize, word_tokenize\n",
    "from os import walk\n",
    "from os import path\n",
    "from pprint import pprint\n",
    "from scipy.stats import sem # standard error of mean\n",
    "from sklearn import metrics\n",
    "from sklearn.metrics import roc_curve, auc\n",
    "from sklearn import cross_validation\n",
    "from sklearn.cross_validation import cross_val_score, train_test_split, StratifiedShuffleSplit\n",
    "from sklearn.feature_selection import SelectPercentile, SelectKBest, chi2, f_classif, f_regression\n",
    "from sklearn.grid_search import GridSearchCV\n",
    "from sklearn.linear_model.stochastic_gradient import SGDClassifier\n",
    "from sklearn.multiclass import OneVsRestClassifier, OneVsOneClassifier, _predict_binary\n",
    "from sklearn.pipeline import Pipeline\n",
    "from sklearn.feature_extraction.text import CountVectorizer\n",
    "from random import randint\n",
    "from sklearn.utils import shuffle\n",
    "from sklearn.preprocessing import MinMaxScaler, StandardScaler, LabelEncoder\n",
    "from sklearn.svm import SVC, LinearSVC\n",
    "from sklearn.neighbors import KNeighborsClassifier\n",
    "from syllables_en import count\n",
    "from sklearn import linear_model\n",
    "from sys import maxint\n",
    "from time import time\n",
    "from scipy.cluster.vq import whiten\n",
    "import pdb\n",
    "from sklearn.learning_curve import learning_curve\n",
    "from sklearn.preprocessing import label_binarize\n",
    "from sklearn.multiclass import OneVsRestClassifier\n",
    "from sklearn.metrics import precision_recall_curve, precision_score,recall_score,f1_score\n",
    "from sklearn.ensemble import RandomForestClassifier\n",
    "from sklearn.metrics import average_precision_score\n",
    "from scipy import interp"
   ]
  },
  {
   "cell_type": "code",
   "execution_count": 10,
   "metadata": {
    "collapsed": false
   },
   "outputs": [],
   "source": [
    "warnings.filterwarnings('ignore')\n",
    "\n",
    "NUMFOLDS = 10\n",
    "RANGE = 25 # set to 25 based on Diederich et al. 2000 as cited on page 9 of http://www.cnts.ua.ac.be/stylometry/Papers/MAThesis_KimLuyckx.pdf\n",
    "SRCDIR = '' #path.dirname(path.realpath(__file__))\n",
    "FEATURESFILE = path.join(SRCDIR,'bookfeatures_6authors_allFeatures.txt')\n",
    "PICKLEFILE = path.join(SRCDIR,'estimator.pickle')\n",
    "CORPUSPATH = path.join(SRCDIR,'../corpus')"
   ]
  },
  {
   "cell_type": "markdown",
   "metadata": {},
   "source": [
    "# Load Feature vector"
   ]
  },
  {
   "cell_type": "code",
   "execution_count": 5,
   "metadata": {
    "collapsed": true
   },
   "outputs": [],
   "source": [
    "def load_book_features_from_file():\n",
    "    '''\n",
    "    Parse a previously created features file and load features for all the book.\n",
    "    '''\n",
    "\n",
    "    contents = open(FEATURESFILE, 'rb').read().strip().split('\\n')\n",
    "    x = []\n",
    "    y = []\n",
    "    for line in contents:\n",
    "        l = line.split('\\t')\n",
    "        y.append(int(l[1]))\n",
    "        x.append(map(float, l[2].split(',')))\n",
    "    return np.array(x), np.array(y)"
   ]
  },
  {
   "cell_type": "markdown",
   "metadata": {},
   "source": [
    "# Exploring different ML models"
   ]
  },
  {
   "cell_type": "code",
   "execution_count": 102,
   "metadata": {
    "collapsed": false
   },
   "outputs": [],
   "source": [
    "def simple_classification_with_grid_search(x_train, y_train,x_test,y_test, estimator=SVC(kernel='linear'), scoring=f_classif):\n",
    "    '''\n",
    "    Run normal SVM classification with grid search\n",
    "    '''\n",
    "\n",
    "    #x_train, x_test, y_train, y_test = train_test_split(x, y, test_size=0.5, random_state=0)\n",
    "    # Grid search must NEVER see all your data or it will overfit it. Hence, even though we use StratifiedShuffleSplit CV, we only pass in the training set. We\n",
    "    # will reserve the test set for evaluation below\n",
    "    cval = StratifiedShuffleSplit(y_train, n_iter=NUMFOLDS, test_size=.35)\n",
    "\n",
    "    # Set the parameters by cross-validation\n",
    "    hyperparameters = {\n",
    "        # complexity of combining hyperparameters for Grid Search increases combinatorially\n",
    "        #'scaler__feature_range': [(0,1),(-1,1)],\n",
    "        'featureselector__k':           [20,50,80],\n",
    "        #'featureselector__score_func':  [f_classif, f_regression]\n",
    "        'estimator__kernel':            ['rbf','linear'],\n",
    "        'estimator__gamma':             [1e-3, 1e-4],\n",
    "        'estimator__C':                 [1, 10, 100, 1000],\n",
    "        #'estimator__tol':               [1e-4, 1e-6],\n",
    "    }\n",
    "\n",
    "    # univariate feature selection \n",
    "    fs = SelectKBest(scoring, k=80)\n",
    "\n",
    "    pipeline = Pipeline([('featureselector', fs),\n",
    "                         ('scaler', MinMaxScaler(feature_range=(0, 1))),\n",
    "                         ('estimator', estimator)])\n",
    "\n",
    "    # scoring can be ['accuracy', 'adjusted_rand_score', 'average_precision', 'f1', 'log_loss', 'mean_squared_error', 'precision', 'r2', 'recall', 'roc_auc']\n",
    "    clf = GridSearchCV(pipeline, hyperparameters, scoring='accuracy', n_jobs=-1, cv=cval)\n",
    "    clf.fit(x_train, y_train)\n",
    "\n",
    "    #print \"Best parameters set found on development set:\"\n",
    "    #print clf.best_estimator_\n",
    "    #print\n",
    "    #print \"With grid search, accuracy on testing set:                        %2.3f\" % clf.score(x_test, y_test)\n",
    "    #print\n",
    "\n",
    "    y_predict_test = clf.predict(x_test)\n",
    "    print \"\\n%% Accuracy on testing set: %2.3f\" % metrics.accuracy_score(y_test, y_predict_test)\n",
    "\n",
    "    print \"\\nClassification Report:\"\n",
    "    print metrics.classification_report(y_test, y_predict_test)\n",
    "\n",
    "    print \"Confusion Matrix:\"\n",
    "    print metrics.confusion_matrix(y_test, y_predict_test)\n",
    "    \n",
    "    return y_predict_test\n",
    "   "
   ]
  },
  {
   "cell_type": "code",
   "execution_count": 83,
   "metadata": {
    "collapsed": true
   },
   "outputs": [],
   "source": [
    "def classification_without_cross_fold_validation(x_train, y_train, x_cv, y_cv, x_test, y_test, estimator, scoring=f_classif):\n",
    "    '''\n",
    "    Run normal SVM classification without cross-fold validation.\n",
    "    '''\n",
    "\n",
    "    #x_train, x_test, y_train, y_test = train_test_split(x, y, test_size=0.3) # 30% reserved for validation\n",
    "\n",
    "    \n",
    "    # feature selection since we have a small sample space\n",
    "    fs = SelectKBest(scoring, k=80)\n",
    "\n",
    "    pipeline = Pipeline([('featureselector', fs), ('scaler', StandardScaler()), ('estimator', estimator)])\n",
    "\n",
    "    pipeline = OneVsRestClassifier(pipeline)\n",
    "\n",
    "    clfer = pipeline.fit(x_train, y_train)\n",
    "    y_predict_train = clfer.predict(x_train)\n",
    "\n",
    "    print \"%% Accuracy on training set: %2.3f\" % metrics.accuracy_score(y_train, y_predict_train)\n",
    "\n",
    "    y_predict_cv = clfer.predict(x_cv)\n",
    "    print \"\\n%% Accuracy on testing set: %2.3f\" % metrics.accuracy_score(y_cv, y_predict_cv)\n",
    "\n",
    "    #print \"\\nClassification Report:\"\n",
    "    #print metrics.classification_report(y_cv, y_predict_cv)\n",
    "\n",
    "    #print \"Confusion Matrix:\"\n",
    "    #print metrics.confusion_matrix(y_cv, y_predict_cv)\n",
    "    y_test_score = clfer.fit(x_train, y_train).decision_function(x_test)\n",
    "    #plot_roc(y_test,y_test_score)\n",
    "    plot_prc(y_test,y_test_score)\n"
   ]
  },
  {
   "cell_type": "code",
   "execution_count": 103,
   "metadata": {
    "collapsed": false
   },
   "outputs": [
    {
     "name": "stdout",
     "output_type": "stream",
     "text": [
      "Feature file found. Reading...\n",
      "\n",
      "Train: 1482 samples in 6 classes\n",
      "Test: 494 samples in 6 classes\n",
      "Validation: 495 samples in 6 classes\n",
      "\n",
      "\n",
      "% Accuracy on testing set: 0.840\n",
      "\n",
      "Classification Report:\n",
      "             precision    recall  f1-score   support\n",
      "\n",
      "          0       0.91      0.84      0.88        76\n",
      "          1       0.80      0.72      0.76        99\n",
      "          2       0.90      0.84      0.87        45\n",
      "          3       0.91      0.89      0.90        46\n",
      "          4       0.82      0.91      0.86       171\n",
      "          5       0.79      0.79      0.79        57\n",
      "\n",
      "avg / total       0.84      0.84      0.84       494\n",
      "\n",
      "Confusion Matrix:\n",
      "[[ 64   0   0   1  11   0]\n",
      " [  2  71   1   1  15   9]\n",
      " [  1   1  38   0   4   1]\n",
      " [  0   2   0  41   2   1]\n",
      " [  3   7   3   1 156   1]\n",
      " [  0   8   0   1   3  45]]\n"
     ]
    }
   ],
   "source": [
    "\n",
    "'''\n",
    "Initiate classification.\n",
    "'''\n",
    "\n",
    "x = []\n",
    "y = []\n",
    "if not path.exists(FEATURESFILE):\n",
    "    print 'Feature file not found. Please run the create Feature file first...'\n",
    "else:\n",
    "    print 'Feature file found. Reading...'\n",
    "    print\n",
    "    x, y = load_book_features_from_file()\n",
    "\n",
    "    \n",
    "#shuffle the data\n",
    "x, y = shuffle(x, y, random_state=0)\n",
    "\n",
    "#split into train 60%, CV 20% and     \n",
    "x_train, x_test_cv, y_train, y_test_cv = train_test_split(x, y, test_size=0.4, random_state=0)   \n",
    "x_test, x_cv, y_test, y_cv = train_test_split(x_test_cv, y_test_cv, test_size=0.5, random_state=0)   \n",
    "    \n",
    "no_samples = len(x_train)\n",
    "no_classes = len(set(y_train))\n",
    "print \"Train: {no_samples} samples in {no_classes} classes\".format(**locals())\n",
    "\n",
    "no_samples = len(x_test)\n",
    "no_classes = len(set(y_test))\n",
    "print \"Test: {no_samples} samples in {no_classes} classes\".format(**locals())\n",
    "\n",
    "no_samples = len(x_cv)\n",
    "no_classes = len(set(y_cv))\n",
    "print \"Validation: {no_samples} samples in {no_classes} classes\".format(**locals())\n",
    "print\n",
    "\n",
    "estimator = SVC(kernel='linear')\n",
    "scoring = 'f1'\n",
    "#classification_without_cross_fold_validation(x_train, y_train, x_cv, y_cv,x_test,y_test, estimator)\n",
    "\n",
    "y_predict_test = simple_classification_with_grid_search(x_train, y_train,x_test,y_test, SVC(kernel='linear'), f_classif) # use ANOVA scoring\n",
    "#simple_classification_with_cross_fold_validation(x, y, LinearSVC(random_state=0,tol=1e-8,penalty='l2',dual=True,C=1), f_classif) # use ANOVA scoring\n"
   ]
  },
  {
   "cell_type": "code",
   "execution_count": 112,
   "metadata": {
    "collapsed": false
   },
   "outputs": [
    {
     "data": {
      "text/plain": [
       "0.8430076224070332"
      ]
     },
     "execution_count": 112,
     "metadata": {},
     "output_type": "execute_result"
    }
   ],
   "source": [
    "f1_score(y_test, y_predict_test,average='macro')"
   ]
  },
  {
   "cell_type": "markdown",
   "metadata": {},
   "source": [
    "# Plot learning curves for training and validation sets"
   ]
  },
  {
   "cell_type": "code",
   "execution_count": 8,
   "metadata": {
    "collapsed": false
   },
   "outputs": [],
   "source": [
    "def plot_learning_curve(estimator, title, X, y, ylim=None, cv=None,\n",
    "                        n_jobs=1, train_sizes=np.linspace(.1, 1.0, 5)):\n",
    "    \"\"\"\n",
    "    Generate a simple plot of the test and traning learning curve.\n",
    "\n",
    "    Parameters\n",
    "    ----------\n",
    "    estimator : object type that implements the \"fit\" and \"predict\" methods\n",
    "        An object of that type which is cloned for each validation.\n",
    "\n",
    "    title : string\n",
    "        Title for the chart.\n",
    "\n",
    "    X : array-like, shape (n_samples, n_features)\n",
    "        Training vector, where n_samples is the number of samples and\n",
    "        n_features is the number of features.\n",
    "\n",
    "    y : array-like, shape (n_samples) or (n_samples, n_features), optional\n",
    "        Target relative to X for classification or regression;\n",
    "        None for unsupervised learning.\n",
    "\n",
    "    ylim : tuple, shape (ymin, ymax), optional\n",
    "        Defines minimum and maximum yvalues plotted.\n",
    "\n",
    "    cv : integer, cross-validation generator, optional\n",
    "        If an integer is passed, it is the number of folds (defaults to 3).\n",
    "        Specific cross-validation objects can be passed, see\n",
    "        sklearn.cross_validation module for the list of possible objects\n",
    "\n",
    "    n_jobs : integer, optional\n",
    "        Number of jobs to run in parallel (default 1).\n",
    "    \"\"\"\n",
    "    plt.figure()\n",
    "    plt.title(title)\n",
    "    if ylim is not None:\n",
    "        plt.ylim(*ylim)\n",
    "    plt.xlabel(\"Training examples\")\n",
    "    plt.ylabel(\"Score\")\n",
    "    train_sizes, train_scores, test_scores = learning_curve(\n",
    "        estimator, X, y, cv=cv, n_jobs=n_jobs, train_sizes=train_sizes)\n",
    "    train_scores_mean = np.mean(train_scores, axis=1)\n",
    "    train_scores_std = np.std(train_scores, axis=1)\n",
    "    test_scores_mean = np.mean(test_scores, axis=1)\n",
    "    test_scores_std = np.std(test_scores, axis=1)\n",
    "    plt.grid()\n",
    "\n",
    "    plt.fill_between(train_sizes, train_scores_mean - train_scores_std,\n",
    "                     train_scores_mean + train_scores_std, alpha=0.1,\n",
    "                     color=\"r\")\n",
    "    plt.fill_between(train_sizes, test_scores_mean - test_scores_std,\n",
    "                     test_scores_mean + test_scores_std, alpha=0.1, color=\"g\")\n",
    "    plt.plot(train_sizes, train_scores_mean, 'o-', color=\"r\",\n",
    "             label=\"Training score\")\n",
    "    plt.plot(train_sizes, test_scores_mean, 'o-', color=\"g\",\n",
    "             label=\"Cross-validation score\")\n",
    "\n",
    "    plt.legend(loc=\"best\")\n",
    "    return plt\n"
   ]
  },
  {
   "cell_type": "code",
   "execution_count": 9,
   "metadata": {
    "collapsed": false
   },
   "outputs": [
    {
     "data": {
      "text/plain": [
       "<module 'matplotlib.pyplot' from '/Library/Frameworks/Python.framework/Versions/2.7/lib/python2.7/site-packages/matplotlib/pyplot.pyc'>"
      ]
     },
     "execution_count": 9,
     "metadata": {},
     "output_type": "execute_result"
    },
    {
     "data": {
      "image/png": "[encoded data removed]",
      "text/plain": [
       "<matplotlib.figure.Figure at 0x10b75c710>"
      ]
     },
     "metadata": {},
     "output_type": "display_data"
    }
   ],
   "source": [
    "title = \"Learning Curves (SVC_linear)\"\n",
    "# Cross validation with 100 iterations to get smoother mean test and train\n",
    "# score curves, each time with 20% data randomly selected as a validation set.\n",
    "cv = cross_validation.ShuffleSplit(x_train.shape[0], n_iter=100,\n",
    "                                   test_size=0.2, random_state=0)\n",
    "\n",
    "estimator = SVC(kernel='linear') \n",
    "plot_learning_curve(estimator, title, x_train, y_train, ylim=(0.6, 1.01), cv=cv, n_jobs=4)\n"
   ]
  },
  {
   "cell_type": "markdown",
   "metadata": {},
   "source": [
    "# Functions to plot ROC and PRC curves"
   ]
  },
  {
   "cell_type": "code",
   "execution_count": 77,
   "metadata": {
    "collapsed": false
   },
   "outputs": [],
   "source": [
    "def plot_roc(y_test, y_score):\n",
    "\n",
    "    # Binarize the output\n",
    "    y_test = label_binarize(y_test, classes=[0, 1, 2,3,4,5])\n",
    "    n_classes = y_test.shape[1]\n",
    "    # Compute ROC curve and ROC area for each class\n",
    "    fpr = dict()\n",
    "    tpr = dict()\n",
    "    threshold = dict()\n",
    "    roc_auc = dict()\n",
    "    #import pdb;pdb.set_trace()\n",
    "    for i in range(n_classes):\n",
    "        fpr[i], tpr[i], threshold[i]= roc_curve(y_test[:,i], y_score[:,i])\n",
    "        roc_auc[i] = auc(fpr[i], tpr[i])\n",
    "\n",
    "    # Compute micro-average ROC curve and ROC area\n",
    "    fpr[\"micro\"], tpr[\"micro\"], _ = roc_curve(y_test.ravel(), y_score.ravel())\n",
    "    roc_auc[\"micro\"] = auc(fpr[\"micro\"], tpr[\"micro\"])\n",
    "\n",
    "\n",
    "    ##############################################################################\n",
    "    # Plot of a ROC curve for a specific class\n",
    "    plt.figure()\n",
    "    plt.plot(fpr[2], tpr[2], label='ROC curve (area = %0.2f)' % roc_auc[2])\n",
    "    plt.plot([0, 1], [0, 1], 'k--')\n",
    "    plt.xlim([0.0, 1.0])\n",
    "    plt.ylim([0.0, 1.05])\n",
    "    plt.xlabel('False Positive Rate')\n",
    "    plt.ylabel('True Positive Rate')\n",
    "    plt.title('Receiver operating characteristic example')\n",
    "    plt.legend(loc=\"lower right\")\n",
    "    plt.show()\n",
    "\n",
    "\n",
    "    ##############################################################################\n",
    "    # Plot ROC curves for the multiclass problem\n",
    "\n",
    "    # Compute macro-average ROC curve and ROC area\n",
    "\n",
    "    # First aggregate all false positive rates\n",
    "    all_fpr = np.unique(np.concatenate([fpr[i] for i in range(n_classes)]))\n",
    "\n",
    "    # Then interpolate all ROC curves at this points\n",
    "    mean_tpr = np.zeros_like(all_fpr)\n",
    "    for i in range(n_classes):\n",
    "        mean_tpr += interp(all_fpr, fpr[i], tpr[i])\n",
    "\n",
    "    # Finally average it and compute AUC\n",
    "    mean_tpr /= n_classes\n",
    "\n",
    "    fpr[\"macro\"] = all_fpr\n",
    "    tpr[\"macro\"] = mean_tpr\n",
    "    roc_auc[\"macro\"] = auc(fpr[\"macro\"], tpr[\"macro\"])\n",
    "\n",
    "    # Plot all ROC curves\n",
    "    plt.figure()\n",
    "    plt.plot(fpr[\"micro\"], tpr[\"micro\"],\n",
    "             label='micro-average ROC curve (area = {0:0.2f})'\n",
    "                   ''.format(roc_auc[\"micro\"]),\n",
    "             linewidth=2)\n",
    "\n",
    "    plt.plot(fpr[\"macro\"], tpr[\"macro\"],\n",
    "             label='macro-average ROC curve (area = {0:0.2f})'\n",
    "                   ''.format(roc_auc[\"macro\"]),\n",
    "             linewidth=2)\n",
    "\n",
    "    for i in range(n_classes):\n",
    "        plt.plot(fpr[i], tpr[i], label='ROC curve of class {0} (area = {1:0.2f})'\n",
    "                                       ''.format(i, roc_auc[i]))\n",
    "\n",
    "    plt.plot([0, 1], [0, 1], 'k--')\n",
    "    plt.xlim([0.0, 1.0])\n",
    "    plt.ylim([0.0, 1.05])\n",
    "    plt.xlabel('False Positive Rate')\n",
    "    plt.ylabel('True Positive Rate')\n",
    "    plt.title('Some extension of Receiver operating characteristic to multi-class')\n",
    "    plt.legend(loc=\"lower right\")\n",
    "    plt.show()"
   ]
  },
  {
   "cell_type": "code",
   "execution_count": 89,
   "metadata": {
    "collapsed": false
   },
   "outputs": [],
   "source": [
    "def plot_prc(y_test, y_score):\n",
    "\n",
    "    # Binarize the output\n",
    "    y_test = label_binarize(y_test, classes=[0, 1, 2,3,4,5])\n",
    "    n_classes = y_test.shape[1]\n",
    "\n",
    "    # Compute Precision-Recall and plot curve\n",
    "    precision = dict()\n",
    "    recall = dict()\n",
    "    average_precision = dict()\n",
    "    for i in range(n_classes):\n",
    "        precision[i], recall[i], _ = precision_recall_curve(y_test[:, i],\n",
    "                                                            y_score[:, i])\n",
    "        average_precision[i] = average_precision_score(y_test[:, i], y_score[:, i])\n",
    "\n",
    "    # Compute micro-average ROC curve and ROC area\n",
    "    precision[\"micro\"], recall[\"micro\"], _ = precision_recall_curve(y_test.ravel(),\n",
    "        y_score.ravel())\n",
    "    average_precision[\"micro\"] = average_precision_score(y_test, y_score,\n",
    "                                                         average=\"micro\")\n",
    "\n",
    "    # Plot Precision-Recall curve\n",
    "    plt.clf()\n",
    "    plt.plot(recall[0], precision[0], label='Precision-Recall curve')\n",
    "    plt.xlabel('Recall')\n",
    "    plt.ylabel('Precision')\n",
    "    plt.ylim([0.0, 1.05])\n",
    "    plt.xlim([0.0, 1.0])\n",
    "    plt.title('Precision-Recall example: AUC={0:0.2f}'.format(average_precision[0]))\n",
    "    plt.legend(loc=\"lower left\")\n",
    "    plt.show()\n",
    "\n",
    "    # Plot Precision-Recall curve for each class\n",
    "    plt.clf()\n",
    "    plt.plot(recall[\"micro\"], precision[\"micro\"],\n",
    "             label='micro-average Precision-recall curve (area = {0:0.2f})'\n",
    "                   ''.format(average_precision[\"micro\"]),\n",
    "            linewidth=2)\n",
    "    for i in range(n_classes):\n",
    "        plt.plot(recall[i], precision[i],\n",
    "                 label='Precision-recall curve of class {0} (area = {1:0.2f})'\n",
    "                       ''.format(i, average_precision[i]))\n",
    "\n",
    "    plt.xlim([0.0, 1.0])\n",
    "    plt.ylim([0.0, 1.05])\n",
    "    plt.xlabel('Recall')\n",
    "    plt.ylabel('Precision')\n",
    "    plt.title('Extension of Precision-Recall curve to multi-class')\n",
    "    plt.legend(loc=\"lower right\")\n",
    "    plt.show()"
   ]
  }
 ],
 "metadata": {
  "kernelspec": {
   "display_name": "Python 2",
   "language": "python",
   "name": "python2"
  },
  "language_info": {
   "codemirror_mode": {
    "name": "ipython",
    "version": 2
   },
   "file_extension": ".py",
   "mimetype": "text/x-python",
   "name": "python",
   "nbconvert_exporter": "python",
   "pygments_lexer": "ipython2",
   "version": "2.7.9"
  }
 },
 "nbformat": 4,
 "nbformat_minor": 0
}
